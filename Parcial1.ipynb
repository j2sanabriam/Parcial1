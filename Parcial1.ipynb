{
 "cells": [
  {
   "cell_type": "markdown",
   "id": "593e8741-e84f-46dc-a34f-a7955100876e",
   "metadata": {},
   "source": [
    "# Parcial 1\n",
    "\n",
    "Jose Julian Sanabria Mejia <br> Cod: 202224837 <br> jj.sanabria@uniandes.edu.co\n",
    "\n",
    "MINE-4101: Ciencia de Dato Aplicada <br> Univerisdad de los Andes\n",
    "\n",
    "Dataset: XXXXXXXXXX.csv"
   ]
  },
  {
   "cell_type": "markdown",
   "id": "cd3deed3-1144-43de-b102-203cfec8aa07",
   "metadata": {},
   "source": []
  }
 ],
 "metadata": {
  "kernelspec": {
   "display_name": "Python 3 (ipykernel)",
   "language": "python",
   "name": "python3"
  },
  "language_info": {
   "codemirror_mode": {
    "name": "ipython",
    "version": 3
   },
   "file_extension": ".py",
   "mimetype": "text/x-python",
   "name": "python",
   "nbconvert_exporter": "python",
   "pygments_lexer": "ipython3",
   "version": "3.9.12"
  }
 },
 "nbformat": 4,
 "nbformat_minor": 5
}
